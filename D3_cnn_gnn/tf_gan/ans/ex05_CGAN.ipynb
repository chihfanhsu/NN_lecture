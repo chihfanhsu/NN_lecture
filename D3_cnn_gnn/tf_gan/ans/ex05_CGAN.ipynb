{
 "cells": [
  {
   "cell_type": "code",
   "execution_count": 1,
   "metadata": {},
   "outputs": [],
   "source": [
    "import tensorflow as tf\n",
    "from tensorflow.examples.tutorials.mnist import input_data\n",
    "import matplotlib.pyplot as plt\n",
    "import matplotlib.gridspec as gridspec\n",
    "import numpy as np\n",
    "import os"
   ]
  },
  {
   "cell_type": "code",
   "execution_count": 2,
   "metadata": {},
   "outputs": [
    {
     "name": "stdout",
     "output_type": "stream",
     "text": [
      "WARNING:tensorflow:From <ipython-input-2-5c38fe1d226c>:1: read_data_sets (from tensorflow.contrib.learn.python.learn.datasets.mnist) is deprecated and will be removed in a future version.\n",
      "Instructions for updating:\n",
      "Please use alternatives such as official/mnist/dataset.py from tensorflow/models.\n",
      "WARNING:tensorflow:From c:\\users\\silve\\appdata\\local\\programs\\python\\python35\\lib\\site-packages\\tensorflow\\contrib\\learn\\python\\learn\\datasets\\mnist.py:260: maybe_download (from tensorflow.contrib.learn.python.learn.datasets.base) is deprecated and will be removed in a future version.\n",
      "Instructions for updating:\n",
      "Please write your own downloading logic.\n",
      "WARNING:tensorflow:From c:\\users\\silve\\appdata\\local\\programs\\python\\python35\\lib\\site-packages\\tensorflow\\contrib\\learn\\python\\learn\\datasets\\mnist.py:262: extract_images (from tensorflow.contrib.learn.python.learn.datasets.mnist) is deprecated and will be removed in a future version.\n",
      "Instructions for updating:\n",
      "Please use tf.data to implement this functionality.\n",
      "Extracting ../../../dataset/MNIST\\train-images-idx3-ubyte.gz\n",
      "WARNING:tensorflow:From c:\\users\\silve\\appdata\\local\\programs\\python\\python35\\lib\\site-packages\\tensorflow\\contrib\\learn\\python\\learn\\datasets\\mnist.py:267: extract_labels (from tensorflow.contrib.learn.python.learn.datasets.mnist) is deprecated and will be removed in a future version.\n",
      "Instructions for updating:\n",
      "Please use tf.data to implement this functionality.\n",
      "Extracting ../../../dataset/MNIST\\train-labels-idx1-ubyte.gz\n",
      "WARNING:tensorflow:From c:\\users\\silve\\appdata\\local\\programs\\python\\python35\\lib\\site-packages\\tensorflow\\contrib\\learn\\python\\learn\\datasets\\mnist.py:110: dense_to_one_hot (from tensorflow.contrib.learn.python.learn.datasets.mnist) is deprecated and will be removed in a future version.\n",
      "Instructions for updating:\n",
      "Please use tf.one_hot on tensors.\n",
      "Extracting ../../../dataset/MNIST\\t10k-images-idx3-ubyte.gz\n",
      "Extracting ../../../dataset/MNIST\\t10k-labels-idx1-ubyte.gz\n",
      "WARNING:tensorflow:From c:\\users\\silve\\appdata\\local\\programs\\python\\python35\\lib\\site-packages\\tensorflow\\contrib\\learn\\python\\learn\\datasets\\mnist.py:290: DataSet.__init__ (from tensorflow.contrib.learn.python.learn.datasets.mnist) is deprecated and will be removed in a future version.\n",
      "Instructions for updating:\n",
      "Please use alternatives such as official/mnist/dataset.py from tensorflow/models.\n"
     ]
    }
   ],
   "source": [
    "mnist = input_data.read_data_sets('../../../dataset/MNIST', one_hot=True)\n",
    "Z_dim = 128\n",
    "batch_size = 64\n",
    "\n",
    "# define inputs\n",
    "with tf.variable_scope(\"inputs\"):\n",
    "    X = tf.placeholder(tf.float32, shape= [None, mnist.train.images.shape[1]])\n",
    "    Z = tf.placeholder(tf.float32, shape= [None, Z_dim])\n",
    "    Y = tf.placeholder(tf.float32, shape= [None, mnist.train.labels.shape[1]])"
   ]
  },
  {
   "cell_type": "raw",
   "metadata": {},
   "source": [
    "Ex05\n",
    "在 input 中加入 label 的值\n",
    "\n",
    "Hint:\n",
    "tf.concat([tensor1, tensor1],axis=)"
   ]
  },
  {
   "cell_type": "code",
   "execution_count": 3,
   "metadata": {},
   "outputs": [],
   "source": [
    "def generator(z, y):\n",
    "    with tf.variable_scope(\"generator\"):\n",
    "        inputs = tf.concat(values=[z, y],axis=1)\n",
    "        G_h1 = tf.layers.dense(inputs,\n",
    "                               128,\n",
    "                               activation=tf.nn.relu,\n",
    "                               kernel_initializer=tf.glorot_normal_initializer())\n",
    "        G_prob = tf.layers.dense(G_h1, 784, activation = tf.nn.sigmoid, kernel_initializer=tf.glorot_normal_initializer())\n",
    "    \n",
    "        return G_prob\n",
    "\n",
    "def discriminator(x, y, reuse):\n",
    "    with tf.variable_scope(\"discriminator\"):       \n",
    "        inputs = tf.concat(values=[x, y],axis=1)\n",
    "        D_h1 = tf.layers.dense(inputs,\n",
    "                               128,\n",
    "                               reuse = reuse,\n",
    "                               activation=tf.nn.relu,\n",
    "                               kernel_initializer=tf.glorot_normal_initializer(), \n",
    "                               name = \"L1\")\n",
    "        D_logit = tf.layers.dense(D_h1, 1, reuse = reuse, kernel_initializer=tf.glorot_normal_initializer(), name = \"L2\")\n",
    "        D_prob = tf.nn.sigmoid(D_logit)\n",
    "        return D_prob, D_logit\n",
    "\n",
    "def loss(D_logit_real, D_logit_fake):\n",
    "    # D_loss = -tf.reduce_mean(tf.log(D_real) + tf.log(1. - D_fake))\n",
    "    # G_loss = -tf.reduce_mean(tf.log(D_fake))\n",
    "    \n",
    "    # Alternative losses:\n",
    "    # -------------------\n",
    "    D_loss_real = tf.reduce_mean(tf.nn.sigmoid_cross_entropy_with_logits(logits=D_logit_real, labels=tf.ones_like(D_logit_real)))\n",
    "    D_loss_fake = tf.reduce_mean(tf.nn.sigmoid_cross_entropy_with_logits(logits=D_logit_fake, labels=tf.zeros_like(D_logit_fake)))\n",
    "    D_loss = D_loss_real + D_loss_fake\n",
    "    G_loss = tf.reduce_mean(tf.nn.sigmoid_cross_entropy_with_logits(logits=D_logit_fake, labels=tf.ones_like(D_logit_fake)))\n",
    "    \n",
    "    return G_loss, D_loss\n",
    "\n",
    "def sample_Z(m, n):\n",
    "    return np.random.uniform(-1., 1., size=[m, n])\n",
    "\n",
    "def plot(samples,inputs):\n",
    "    fig = plt.figure(figsize=(4, 4))\n",
    "    gs = gridspec.GridSpec(4, 4)\n",
    "    gs.update(wspace=0.05, hspace=0.05)\n",
    "\n",
    "    for i, sample in enumerate(samples):\n",
    "        ax = plt.subplot(gs[i])\n",
    "        plt.axis('off')\n",
    "        ax.set_xticklabels([])\n",
    "        ax.set_yticklabels([])\n",
    "        ax.set_aspect('equal')\n",
    "        plt.imshow(sample.reshape(28, 28), cmap='Greys_r')\n",
    "    fig.suptitle(inputs)\n",
    "    return fig"
   ]
  },
  {
   "cell_type": "code",
   "execution_count": 4,
   "metadata": {},
   "outputs": [],
   "source": [
    "G_sample = generator(Z, Y)\n",
    "D_real, D_logit_real = discriminator(X, Y, reuse=None)\n",
    "D_fake, D_logit_fake = discriminator(G_sample, Y, reuse=True)"
   ]
  },
  {
   "cell_type": "code",
   "execution_count": 5,
   "metadata": {},
   "outputs": [],
   "source": [
    "t_vars = tf.trainable_variables()\n",
    "g_vars = [var for var in t_vars if var.name.startswith(\"generator\")]\n",
    "d_vars = [var for var in t_vars if var.name.startswith(\"discriminator\")]"
   ]
  },
  {
   "cell_type": "code",
   "execution_count": 6,
   "metadata": {},
   "outputs": [],
   "source": [
    "G_loss, D_loss = loss(D_logit_real, D_logit_fake)\n",
    "D_solver = tf.train.AdamOptimizer().minimize(D_loss, var_list=d_vars)\n",
    "G_solver = tf.train.AdamOptimizer().minimize(G_loss, var_list=g_vars)"
   ]
  },
  {
   "cell_type": "code",
   "execution_count": 7,
   "metadata": {
    "scrolled": false
   },
   "outputs": [
    {
     "name": "stdout",
     "output_type": "stream",
     "text": [
      "Iter: 0, D loss: 1.497, G_loss: 2.314\n",
      "Iter: 1000, D loss: 0.02318, G_loss: 4.699\n",
      "Iter: 2000, D loss: 0.03096, G_loss: 5.852\n",
      "Iter: 3000, D loss: 0.09164, G_loss: 4.775\n",
      "Iter: 4000, D loss: 0.09504, G_loss: 4.526\n",
      "Iter: 5000, D loss: 0.2952, G_loss: 4.593\n",
      "Iter: 6000, D loss: 0.4017, G_loss: 4.241\n",
      "Iter: 7000, D loss: 0.4038, G_loss: 3.596\n",
      "Iter: 8000, D loss: 0.4699, G_loss: 3.919\n",
      "Iter: 9000, D loss: 0.6753, G_loss: 3.367\n",
      "Iter: 10000, D loss: 0.5942, G_loss: 2.644\n",
      "Iter: 11000, D loss: 0.5893, G_loss: 2.603\n",
      "Iter: 12000, D loss: 0.6326, G_loss: 2.898\n",
      "Iter: 13000, D loss: 0.7065, G_loss: 1.916\n",
      "Iter: 14000, D loss: 0.8715, G_loss: 2.159\n",
      "Iter: 15000, D loss: 0.7957, G_loss: 2.549\n",
      "Iter: 16000, D loss: 0.7567, G_loss: 1.902\n",
      "Iter: 17000, D loss: 0.8535, G_loss: 2.199\n",
      "Iter: 18000, D loss: 0.6765, G_loss: 1.771\n",
      "Iter: 19000, D loss: 0.8354, G_loss: 2.283\n",
      "Iter: 20000, D loss: 0.7383, G_loss: 1.829\n",
      "Iter: 21000, D loss: 0.8343, G_loss: 2.26\n",
      "Iter: 22000, D loss: 0.8736, G_loss: 1.392\n",
      "Iter: 23000, D loss: 0.8257, G_loss: 1.794\n",
      "Iter: 24000, D loss: 0.9258, G_loss: 1.729\n",
      "Iter: 25000, D loss: 1.091, G_loss: 1.524\n",
      "Iter: 26000, D loss: 0.9239, G_loss: 1.641\n",
      "Iter: 27000, D loss: 0.7396, G_loss: 1.663\n",
      "Iter: 28000, D loss: 1.094, G_loss: 1.587\n",
      "Iter: 29000, D loss: 0.7647, G_loss: 1.545\n",
      "Iter: 30000, D loss: 0.9154, G_loss: 1.52\n",
      "Iter: 31000, D loss: 0.8906, G_loss: 1.635\n",
      "Iter: 32000, D loss: 0.7, G_loss: 1.622\n",
      "Iter: 33000, D loss: 0.963, G_loss: 1.652\n",
      "Iter: 34000, D loss: 0.7841, G_loss: 1.86\n",
      "Iter: 35000, D loss: 0.6968, G_loss: 1.642\n",
      "Iter: 36000, D loss: 0.7578, G_loss: 2.077\n",
      "Iter: 37000, D loss: 0.8109, G_loss: 1.749\n",
      "Iter: 38000, D loss: 0.6973, G_loss: 1.684\n",
      "Iter: 39000, D loss: 0.5936, G_loss: 1.912\n",
      "Iter: 40000, D loss: 0.6358, G_loss: 2.29\n",
      "Iter: 41000, D loss: 0.7658, G_loss: 1.515\n",
      "Iter: 42000, D loss: 0.8361, G_loss: 2.188\n",
      "Iter: 43000, D loss: 0.671, G_loss: 2.022\n",
      "Iter: 44000, D loss: 0.8554, G_loss: 1.933\n",
      "Iter: 45000, D loss: 0.8248, G_loss: 1.93\n",
      "Iter: 46000, D loss: 1.1, G_loss: 1.745\n",
      "Iter: 47000, D loss: 0.9775, G_loss: 1.722\n",
      "Iter: 48000, D loss: 0.7094, G_loss: 1.609\n",
      "Iter: 49000, D loss: 0.8902, G_loss: 1.738\n"
     ]
    }
   ],
   "source": [
    "sess = tf.Session()\n",
    "sess.run(tf.global_variables_initializer())\n",
    "\n",
    "if not os.path.exists('out/'):\n",
    "    os.makedirs('out/')\n",
    "\n",
    "for it in range(50000):\n",
    "    X_mb, Y_mb = mnist.train.next_batch(batch_size) \n",
    "    _, D_loss_curr = sess.run([D_solver, D_loss], feed_dict={X: X_mb,\n",
    "                                                             Z: sample_Z(batch_size, Z_dim),\n",
    "                                                             Y: Y_mb})\n",
    "    _, G_loss_curr = sess.run([G_solver, G_loss], feed_dict={Z: sample_Z(batch_size, Z_dim),\n",
    "                                                             Y: Y_mb})\n",
    "\n",
    "    if it % 1000 == 0:\n",
    "        print('Iter: {}, D loss: {:.4}, G_loss: {:.4}'.format(it,D_loss_curr,G_loss_curr))\n",
    "        \n",
    "        samples = sess.run(G_sample, feed_dict={Z: sample_Z(16, Z_dim),\n",
    "                                               Y: Y_mb[0:16,]})\n",
    "\n",
    "        fig = plot(samples, str(np.argmax(Y_mb[0:16,], axis=1)))\n",
    "        plt.savefig('out/ex05_CGAN/{}.png'.format(str(it).zfill(5)), bbox_inches='tight')\n",
    "        plt.close(fig)"
   ]
  }
 ],
 "metadata": {
  "kernelspec": {
   "display_name": "Python 3",
   "language": "python",
   "name": "python3"
  },
  "language_info": {
   "codemirror_mode": {
    "name": "ipython",
    "version": 3
   },
   "file_extension": ".py",
   "mimetype": "text/x-python",
   "name": "python",
   "nbconvert_exporter": "python",
   "pygments_lexer": "ipython3",
   "version": "3.5.3"
  }
 },
 "nbformat": 4,
 "nbformat_minor": 2
}
