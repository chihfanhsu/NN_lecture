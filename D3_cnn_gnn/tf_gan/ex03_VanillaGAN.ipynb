{
 "cells": [
  {
   "cell_type": "code",
   "execution_count": 1,
   "metadata": {},
   "outputs": [],
   "source": [
    "import tensorflow as tf\n",
    "from tensorflow.examples.tutorials.mnist import input_data\n",
    "import numpy as np\n",
    "import matplotlib.pyplot as plt\n",
    "import matplotlib.gridspec as gridspec\n",
    "import os"
   ]
  },
  {
   "cell_type": "code",
   "execution_count": 2,
   "metadata": {},
   "outputs": [
    {
     "name": "stdout",
     "output_type": "stream",
     "text": [
      "WARNING:tensorflow:From <ipython-input-2-1848a0e19aea>:1: read_data_sets (from tensorflow.contrib.learn.python.learn.datasets.mnist) is deprecated and will be removed in a future version.\n",
      "Instructions for updating:\n",
      "Please use alternatives such as official/mnist/dataset.py from tensorflow/models.\n",
      "WARNING:tensorflow:From c:\\users\\silve\\appdata\\local\\programs\\python\\python35\\lib\\site-packages\\tensorflow\\contrib\\learn\\python\\learn\\datasets\\mnist.py:260: maybe_download (from tensorflow.contrib.learn.python.learn.datasets.base) is deprecated and will be removed in a future version.\n",
      "Instructions for updating:\n",
      "Please write your own downloading logic.\n",
      "WARNING:tensorflow:From c:\\users\\silve\\appdata\\local\\programs\\python\\python35\\lib\\site-packages\\tensorflow\\contrib\\learn\\python\\learn\\datasets\\mnist.py:262: extract_images (from tensorflow.contrib.learn.python.learn.datasets.mnist) is deprecated and will be removed in a future version.\n",
      "Instructions for updating:\n",
      "Please use tf.data to implement this functionality.\n",
      "Extracting ../../dataset/MNIST\\train-images-idx3-ubyte.gz\n",
      "WARNING:tensorflow:From c:\\users\\silve\\appdata\\local\\programs\\python\\python35\\lib\\site-packages\\tensorflow\\contrib\\learn\\python\\learn\\datasets\\mnist.py:267: extract_labels (from tensorflow.contrib.learn.python.learn.datasets.mnist) is deprecated and will be removed in a future version.\n",
      "Instructions for updating:\n",
      "Please use tf.data to implement this functionality.\n",
      "Extracting ../../dataset/MNIST\\train-labels-idx1-ubyte.gz\n",
      "WARNING:tensorflow:From c:\\users\\silve\\appdata\\local\\programs\\python\\python35\\lib\\site-packages\\tensorflow\\contrib\\learn\\python\\learn\\datasets\\mnist.py:110: dense_to_one_hot (from tensorflow.contrib.learn.python.learn.datasets.mnist) is deprecated and will be removed in a future version.\n",
      "Instructions for updating:\n",
      "Please use tf.one_hot on tensors.\n",
      "Extracting ../../dataset/MNIST\\t10k-images-idx3-ubyte.gz\n",
      "Extracting ../../dataset/MNIST\\t10k-labels-idx1-ubyte.gz\n",
      "WARNING:tensorflow:From c:\\users\\silve\\appdata\\local\\programs\\python\\python35\\lib\\site-packages\\tensorflow\\contrib\\learn\\python\\learn\\datasets\\mnist.py:290: DataSet.__init__ (from tensorflow.contrib.learn.python.learn.datasets.mnist) is deprecated and will be removed in a future version.\n",
      "Instructions for updating:\n",
      "Please use alternatives such as official/mnist/dataset.py from tensorflow/models.\n"
     ]
    }
   ],
   "source": [
    "mnist = input_data.read_data_sets('../../dataset/MNIST', one_hot=True)\n",
    "Z_dim = 128\n",
    "mb_size = 64\n",
    "# define inputs\n",
    "X = tf.placeholder(tf.float32, shape=[None, 784])\n",
    "Z = tf.placeholder(tf.float32, shape=[None, Z_dim])"
   ]
  },
  {
   "cell_type": "code",
   "execution_count": 3,
   "metadata": {},
   "outputs": [],
   "source": [
    "def plot(samples):\n",
    "    fig = plt.figure(figsize=(4, 4))\n",
    "    gs = gridspec.GridSpec(4, 4)\n",
    "    gs.update(wspace=0.05, hspace=0.05)\n",
    "\n",
    "    for i, sample in enumerate(samples):\n",
    "        ax = plt.subplot(gs[i])\n",
    "        plt.axis('off')\n",
    "        ax.set_xticklabels([])\n",
    "        ax.set_yticklabels([])\n",
    "        ax.set_aspect('equal')\n",
    "        plt.imshow(sample.reshape(28, 28), cmap='Greys_r')\n",
    "\n",
    "    return fig"
   ]
  },
  {
   "cell_type": "code",
   "execution_count": 4,
   "metadata": {},
   "outputs": [],
   "source": [
    "def sample_Z(m, n):\n",
    "    return np.random.uniform(-1., 1., size=[m, n])\n",
    "\n",
    "def generator(z):\n",
    "    with tf.variable_scope(\"generator\"):\n",
    "        G_h1 = tf.layers.dense(Z,\n",
    "                               128,\n",
    "                               activation=tf.nn.relu,\n",
    "                               kernel_initializer=tf.glorot_normal_initializer())\n",
    "        G_prob = tf.layers.dense(G_h1, 784, activation = tf.nn.sigmoid, kernel_initializer=tf.glorot_normal_initializer())\n",
    "    \n",
    "        return G_prob\n",
    "\n",
    "def discriminator(x, reuse):\n",
    "    with tf.variable_scope(\"discriminator\"):\n",
    "        D_h1 = tf.layers.dense(x,\n",
    "                               128,\n",
    "                               reuse = reuse,\n",
    "                               activation=tf.nn.relu,\n",
    "                               kernel_initializer=tf.glorot_normal_initializer(), \n",
    "                               name = \"L1\")\n",
    "        D_logit = tf.layers.dense(D_h1, 1, reuse = reuse, kernel_initializer=tf.glorot_normal_initializer(), name = \"L2\")\n",
    "        D_prob = tf.nn.sigmoid(D_logit)\n",
    "        return D_prob, D_logit"
   ]
  },
  {
   "cell_type": "code",
   "execution_count": 5,
   "metadata": {},
   "outputs": [],
   "source": [
    "G_sample = generator(Z)\n",
    "D_real, D_logit_real = discriminator(X, reuse=None)\n",
    "D_fake, D_logit_fake = discriminator(G_sample, reuse=True)"
   ]
  },
  {
   "cell_type": "code",
   "execution_count": 6,
   "metadata": {},
   "outputs": [],
   "source": [
    "t_vars = tf.trainable_variables()\n",
    "g_vars = [var for var in t_vars if var.name.startswith(\"generator\")]\n",
    "d_vars = [var for var in t_vars if var.name.startswith(\"discriminator\")]"
   ]
  },
  {
   "cell_type": "code",
   "execution_count": 7,
   "metadata": {},
   "outputs": [],
   "source": [
    "# D_loss = -tf.reduce_mean(tf.log(D_real) + tf.log(1. - D_fake))\n",
    "# G_loss = -tf.reduce_mean(tf.log(D_fake))\n",
    "\n",
    "# Alternative losses:\n",
    "# -------------------\n",
    "D_loss_real = tf.reduce_mean(tf.nn.sigmoid_cross_entropy_with_logits(logits=D_logit_real, labels=tf.ones_like(D_logit_real)))\n",
    "D_loss_fake = tf.reduce_mean(tf.nn.sigmoid_cross_entropy_with_logits(logits=D_logit_fake, labels=tf.zeros_like(D_logit_fake)))\n",
    "D_loss = D_loss_real + D_loss_fake\n",
    "G_loss = tf.reduce_mean(tf.nn.sigmoid_cross_entropy_with_logits(logits=D_logit_fake, labels=tf.ones_like(D_logit_fake)))\n",
    "\n",
    "D_solver = tf.train.AdamOptimizer().minimize(D_loss, var_list=d_vars)\n",
    "G_solver = tf.train.AdamOptimizer().minimize(G_loss, var_list=g_vars)"
   ]
  },
  {
   "cell_type": "code",
   "execution_count": 8,
   "metadata": {
    "scrolled": false
   },
   "outputs": [
    {
     "name": "stdout",
     "output_type": "stream",
     "text": [
      "Iter: 0, D loss: 1.315, G_loss: 2.649\n",
      "Iter: 1000, D loss: 0.01144, G_loss: 8.789\n",
      "Iter: 2000, D loss: 0.03487, G_loss: 4.683\n",
      "Iter: 3000, D loss: 0.1774, G_loss: 4.937\n",
      "Iter: 4000, D loss: 0.1987, G_loss: 4.301\n",
      "Iter: 5000, D loss: 0.2622, G_loss: 4.43\n",
      "Iter: 6000, D loss: 0.3079, G_loss: 3.489\n",
      "Iter: 7000, D loss: 0.3133, G_loss: 3.42\n",
      "Iter: 8000, D loss: 0.4203, G_loss: 2.889\n",
      "Iter: 9000, D loss: 0.6059, G_loss: 3.232\n",
      "Iter: 10000, D loss: 0.4173, G_loss: 3.055\n",
      "Iter: 11000, D loss: 0.663, G_loss: 2.597\n",
      "Iter: 12000, D loss: 1.101, G_loss: 2.835\n",
      "Iter: 13000, D loss: 0.6209, G_loss: 3.134\n",
      "Iter: 14000, D loss: 0.6785, G_loss: 2.287\n",
      "Iter: 15000, D loss: 0.8266, G_loss: 1.668\n",
      "Iter: 16000, D loss: 0.6918, G_loss: 2.318\n",
      "Iter: 17000, D loss: 0.8854, G_loss: 1.905\n",
      "Iter: 18000, D loss: 0.5246, G_loss: 2.361\n",
      "Iter: 19000, D loss: 0.7041, G_loss: 1.945\n",
      "Iter: 20000, D loss: 0.45, G_loss: 2.313\n",
      "Iter: 21000, D loss: 0.5956, G_loss: 2.095\n",
      "Iter: 22000, D loss: 0.5057, G_loss: 2.458\n",
      "Iter: 23000, D loss: 0.7316, G_loss: 1.926\n",
      "Iter: 24000, D loss: 0.5373, G_loss: 2.443\n",
      "Iter: 25000, D loss: 0.5843, G_loss: 2.099\n",
      "Iter: 26000, D loss: 0.6734, G_loss: 2.211\n",
      "Iter: 27000, D loss: 0.5232, G_loss: 1.968\n",
      "Iter: 28000, D loss: 0.5684, G_loss: 1.94\n",
      "Iter: 29000, D loss: 0.6543, G_loss: 2.186\n",
      "Iter: 30000, D loss: 0.6676, G_loss: 2.601\n",
      "Iter: 31000, D loss: 0.6886, G_loss: 2.036\n",
      "Iter: 32000, D loss: 0.6803, G_loss: 2.096\n",
      "Iter: 33000, D loss: 0.4988, G_loss: 2.285\n",
      "Iter: 34000, D loss: 0.6292, G_loss: 2.783\n",
      "Iter: 35000, D loss: 0.3977, G_loss: 2.621\n",
      "Iter: 36000, D loss: 0.4518, G_loss: 2.394\n",
      "Iter: 37000, D loss: 0.6359, G_loss: 2.397\n",
      "Iter: 38000, D loss: 0.6897, G_loss: 2.398\n",
      "Iter: 39000, D loss: 0.5126, G_loss: 2.815\n",
      "Iter: 40000, D loss: 0.7416, G_loss: 2.328\n",
      "Iter: 41000, D loss: 0.6231, G_loss: 2.59\n",
      "Iter: 42000, D loss: 0.5624, G_loss: 2.132\n",
      "Iter: 43000, D loss: 0.6685, G_loss: 2.895\n",
      "Iter: 44000, D loss: 0.7027, G_loss: 2.592\n",
      "Iter: 45000, D loss: 0.5829, G_loss: 2.199\n",
      "Iter: 46000, D loss: 0.5448, G_loss: 2.357\n",
      "Iter: 47000, D loss: 0.4989, G_loss: 2.081\n",
      "Iter: 48000, D loss: 0.4698, G_loss: 2.088\n",
      "Iter: 49000, D loss: 0.6012, G_loss: 2.192\n"
     ]
    }
   ],
   "source": [
    "sess = tf.Session()\n",
    "sess.run(tf.global_variables_initializer())\n",
    "\n",
    "if not os.path.exists('out/'):\n",
    "    os.makedirs('out/')\n",
    "\n",
    "for it in range(50000):\n",
    "    X_mb, _ = mnist.train.next_batch(mb_size)\n",
    "    _, D_loss_curr = sess.run([D_solver, D_loss], feed_dict={X: X_mb,\n",
    "                                                             Z: sample_Z(mb_size, Z_dim)})\n",
    "    _, G_loss_curr = sess.run([G_solver, G_loss], feed_dict={Z: sample_Z(mb_size, Z_dim)})\n",
    "       \n",
    "\n",
    "    if it % 1000 == 0:\n",
    "        print('Iter: {}, D loss: {:.4}, G_loss: {:.4}'.format(it,D_loss_curr,G_loss_curr))\n",
    "        \n",
    "        samples = sess.run(G_sample, feed_dict={Z: sample_Z(16, Z_dim)})\n",
    "        \n",
    "        fig = plot(samples)\n",
    "        plt.savefig('out/ex03_VanillaGAN/{}.png'.format(str(it).zfill(5)), bbox_inches='tight')\n",
    "        plt.close(fig)\n",
    "sess.close()"
   ]
  }
 ],
 "metadata": {
  "kernelspec": {
   "display_name": "Python 3",
   "language": "python",
   "name": "python3"
  },
  "language_info": {
   "codemirror_mode": {
    "name": "ipython",
    "version": 3
   },
   "file_extension": ".py",
   "mimetype": "text/x-python",
   "name": "python",
   "nbconvert_exporter": "python",
   "pygments_lexer": "ipython3",
   "version": "3.5.3"
  }
 },
 "nbformat": 4,
 "nbformat_minor": 2
}
