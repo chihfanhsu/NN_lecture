{
 "cells": [
  {
   "cell_type": "markdown",
   "metadata": {},
   "source": [
    "# Load libraries"
   ]
  },
  {
   "cell_type": "code",
   "execution_count": 1,
   "metadata": {},
   "outputs": [],
   "source": [
    "# import [package name] as [name abbr.]\n",
    "# python 處理數字跟 tensor 運算的主要套件\n",
    "import numpy as np\n",
    "# google 的 NN coding 套件\n",
    "import tensorflow as tf\n",
    "\n",
    "# 有可能會出現警告，但是可以不用理他\n",
    "# c:\\users\\silver\\appdata\\local\\programs\\python\\python35\\lib\\site-packages\\h5py\\__init__.py:36:\n",
    "# FutureWarning: Conversion of the second argument of issubdtype from `float` to `np.floating`\n",
    "# is deprecated. In future, it will be treated as `np.float64 == np.dtype(float).type`.\n",
    "# from ._conv import register_converters as _register_converters\n",
    "\n",
    "import matplotlib.pyplot as plt"
   ]
  },
  {
   "cell_type": "markdown",
   "metadata": {},
   "source": [
    "# Load Dataset"
   ]
  },
  {
   "cell_type": "code",
   "execution_count": 2,
   "metadata": {
    "scrolled": true
   },
   "outputs": [
    {
     "name": "stdout",
     "output_type": "stream",
     "text": [
      "Training data (1652, 200)\n",
      "Training label (1652,)\n",
      "Testing data (184, 200)\n",
      "Testing label (184,)\n"
     ]
    }
   ],
   "source": [
    "exec(open(\"00_readingInput.py\").read())\n",
    "feature_dim = X_train.shape[1]\n",
    "classes = 5"
   ]
  },
  {
   "cell_type": "code",
   "execution_count": 3,
   "metadata": {},
   "outputs": [],
   "source": [
    "# Define Model Input (x) and Output (y_),  y_ = f(x)\n",
    "x = tf.placeholder(tf.float32, [None, X_train.shape[1]])\n",
    "y_ = tf.placeholder(tf.int32, [None])\n",
    "y_one = tf.one_hot(y_,classes)"
   ]
  },
  {
   "cell_type": "markdown",
   "metadata": {},
   "source": [
    "#  Define Your Model Here"
   ]
  },
  {
   "cell_type": "raw",
   "metadata": {},
   "source": [
    "Ex 04\n",
    "嘗試將 optimizer 改成 Adam\n",
    "Hint:\n",
    "tf.train.AdamOptimizer().minimize(adam_loss)"
   ]
  },
  {
   "cell_type": "code",
   "execution_count": 4,
   "metadata": {},
   "outputs": [
    {
     "name": "stdout",
     "output_type": "stream",
     "text": [
      "WARNING:tensorflow:From <ipython-input-4-2baaa2e37368>:8: softmax_cross_entropy_with_logits (from tensorflow.python.ops.nn_ops) is deprecated and will be removed in a future version.\n",
      "Instructions for updating:\n",
      "\n",
      "Future major versions of TensorFlow will allow gradients to flow\n",
      "into the labels input on backprop by default.\n",
      "\n",
      "See @{tf.nn.softmax_cross_entropy_with_logits_v2}.\n",
      "\n"
     ]
    }
   ],
   "source": [
    "adam_h1 = tf.layers.dense(x,128,activation=None)\n",
    "adam_h1_act = tf.nn.relu(adam_h1)\n",
    "adam_h2 = tf.layers.dense(adam_h1_act,256,activation=None)\n",
    "adam_h2_act = tf.nn.relu(adam_h2)\n",
    "adam_y = tf.layers.dense(adam_h2_act,classes,activation=None)\n",
    "\n",
    "# Define the Model Loss (4)\n",
    "adam_loss = tf.reduce_mean(tf.nn.softmax_cross_entropy_with_logits(labels=y_one, logits=adam_y))\n",
    "adam_train_step = tf.train.AdamOptimizer(0.001).minimize(adam_loss)\n",
    "\n",
    "# Accuracy of the Model\n",
    "adam_y_pred = tf.argmax(tf.nn.softmax(adam_y), 1, output_type=tf.int32)\n",
    "adam_correct = tf.equal(adam_y_pred, y_)\n",
    "adam_accuracy = tf.reduce_mean(tf.cast(adam_correct, tf.float32))"
   ]
  },
  {
   "cell_type": "markdown",
   "metadata": {},
   "source": [
    "#  Define the Reference model (SGD)"
   ]
  },
  {
   "cell_type": "code",
   "execution_count": 5,
   "metadata": {},
   "outputs": [],
   "source": [
    "sgd_h1 = tf.layers.dense(x,128,activation=None)\n",
    "sgd_h1_act = tf.nn.relu(sgd_h1)\n",
    "sgd_h2 = tf.layers.dense(sgd_h1_act,256,activation=None)\n",
    "sgd_h2_act = tf.nn.relu(sgd_h2)\n",
    "sgd_y = tf.layers.dense(sgd_h2_act,classes,activation=None)\n",
    "\n",
    "sgd_loss = tf.reduce_mean(tf.nn.softmax_cross_entropy_with_logits(labels=y_one, logits=sgd_y))\n",
    "sgd_train_step = tf.train.GradientDescentOptimizer(0.001).minimize(sgd_loss)\n",
    "\n",
    "# Accuracy of the Model\n",
    "sgd_y_pred = tf.argmax(tf.nn.softmax(sgd_y), 1, output_type=tf.int32)\n",
    "sgd_correct = tf.equal(sgd_y_pred, y_)\n",
    "sgd_accuracy = tf.reduce_mean(tf.cast(sgd_correct, tf.float32))"
   ]
  },
  {
   "cell_type": "code",
   "execution_count": 6,
   "metadata": {},
   "outputs": [],
   "source": [
    "# initialize the models\n",
    "sess = tf.InteractiveSession()\n",
    "tf.global_variables_initializer().run()"
   ]
  },
  {
   "cell_type": "markdown",
   "metadata": {},
   "source": [
    "# Training & Evaluation"
   ]
  },
  {
   "cell_type": "code",
   "execution_count": 7,
   "metadata": {},
   "outputs": [],
   "source": [
    "epoch = 30\n",
    "batch_size = 16\n",
    "get_batches = gen_batches(X_train, Y_train, batch_size)\n",
    "batches_in_a_epoch = int(X_train.shape[0]/batch_size)"
   ]
  },
  {
   "cell_type": "code",
   "execution_count": 8,
   "metadata": {
    "scrolled": false
   },
   "outputs": [],
   "source": [
    "adam_hist_train_acc = []\n",
    "adam_hist_valid_acc = []\n",
    "sgd_hist_train_acc = []\n",
    "sgd_hist_valid_acc = []\n",
    "adam_hist_train_loss = []\n",
    "adam_hist_valid_loss = []\n",
    "sgd_hist_train_loss = []\n",
    "sgd_hist_valid_loss = []\n",
    "\n",
    "for step in range(epoch*batches_in_a_epoch):\n",
    "    batch_xs, batch_ys = next(get_batches)\n",
    "    sess.run(adam_train_step, feed_dict={x: batch_xs, y_: batch_ys})\n",
    "    sess.run(sgd_train_step, feed_dict={x: batch_xs, y_: batch_ys})\n",
    "    if (step % batches_in_a_epoch == 0):\n",
    "        # trainin and validation evaluation\n",
    "        # ADAM\n",
    "        train_loss, train_acc = sess.run([adam_loss,adam_accuracy], feed_dict={x: X_train, y_: Y_train})\n",
    "        valid_loss, valid_acc = sess.run([adam_loss,adam_accuracy], feed_dict={x: X_test,  y_: Y_test})\n",
    "        adam_hist_train_acc.append(train_acc)\n",
    "        adam_hist_valid_acc.append(valid_acc)\n",
    "        adam_hist_train_loss.append(train_loss)\n",
    "        adam_hist_valid_loss.append(valid_loss)\n",
    "        #print(\"[ADAM]  Accuracy: [T] %.4f / [V] %.4f\" % (train_acc,valid_acc))\n",
    "        # SGD\n",
    "        train_loss, train_acc = sess.run([sgd_loss,sgd_accuracy], feed_dict={x: X_train, y_: Y_train})\n",
    "        valid_loss, valid_acc = sess.run([sgd_loss,sgd_accuracy], feed_dict={x: X_test,  y_: Y_test})\n",
    "        sgd_hist_train_acc.append(train_acc)\n",
    "        sgd_hist_valid_acc.append(valid_acc)\n",
    "        sgd_hist_train_loss.append(train_loss)\n",
    "        sgd_hist_valid_loss.append(valid_loss)\n",
    "        #print(\"[SGD] Accuracy: [T] %.4f / [V] %.4f\" % (train_acc,valid_acc))\n",
    "sess.close()"
   ]
  },
  {
   "cell_type": "code",
   "execution_count": 9,
   "metadata": {},
   "outputs": [
    {
     "data": {
      "image/png": "[encoded data removed]",
      "text/plain": [
       "<Figure size 576x432 with 2 Axes>"
      ]
     },
     "metadata": {
      "needs_background": "light"
     },
     "output_type": "display_data"
    }
   ],
   "source": [
    "plt.figure(0,figsize=(8,6))\n",
    "plt.subplot(121)\n",
    "x = [x for x in range(len(adam_hist_train_loss))]\n",
    "line_ce, = plt.plot(x, adam_hist_train_loss, label='ADAM')\n",
    "line_mse, = plt.plot(x, sgd_hist_train_loss, label='SGD')\n",
    "plt.xlabel('#epoch')\n",
    "plt.ylabel('Loss')\n",
    "plt.ylim([0,2])\n",
    "plt.legend(handles=[line_ce,line_mse], loc=4)\n",
    "plt.subplot(122)\n",
    "x = [x for x in range(len(adam_hist_train_acc))]\n",
    "line_ce, = plt.plot(x, adam_hist_train_acc, label='ADAM')\n",
    "line_mse, = plt.plot(x, sgd_hist_train_acc, label='SGD')\n",
    "plt.xlabel('#epoch')\n",
    "plt.ylabel('Accuracy')\n",
    "plt.legend(handles=[line_ce,line_mse], loc=4)\n",
    "plt.tight_layout()\n",
    "plt.savefig('./training_curve/ex04_Optimizer.png',dpi=300,format='png')\n",
    "plt.show()\n",
    "plt.close()"
   ]
  }
 ],
 "metadata": {
  "kernelspec": {
   "display_name": "Python 3",
   "language": "python",
   "name": "python3"
  },
  "language_info": {
   "codemirror_mode": {
    "name": "ipython",
    "version": 3
   },
   "file_extension": ".py",
   "mimetype": "text/x-python",
   "name": "python",
   "nbconvert_exporter": "python",
   "pygments_lexer": "ipython3",
   "version": "3.5.3"
  }
 },
 "nbformat": 4,
 "nbformat_minor": 2
}
