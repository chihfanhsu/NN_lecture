{
 "cells": [
  {
   "cell_type": "markdown",
   "metadata": {},
   "source": [
    "# Load libraries"
   ]
  },
  {
   "cell_type": "code",
   "execution_count": 1,
   "metadata": {},
   "outputs": [],
   "source": [
    "# import [package name] as [name abbr.]\n",
    "# python 處理數字跟 tensor 運算的主要套件\n",
    "import numpy as np\n",
    "# google 的 NN coding 套件\n",
    "import tensorflow as tf\n",
    "\n",
    "from tensorflow.examples.tutorials.mnist import input_data\n",
    "# 有可能會出現警告，但是可以不用理他\n",
    "# c:\\users\\silver\\appdata\\local\\programs\\python\\python35\\lib\\site-packages\\h5py\\__init__.py:36:\n",
    "# FutureWarning: Conversion of the second argument of issubdtype from `float` to `np.floating`\n",
    "# is deprecated. In future, it will be treated as `np.float64 == np.dtype(float).type`.\n",
    "# from ._conv import register_converters as _register_converters\n",
    "import matplotlib.pyplot as plt"
   ]
  },
  {
   "cell_type": "markdown",
   "metadata": {},
   "source": [
    "# Load MNIST"
   ]
  },
  {
   "cell_type": "code",
   "execution_count": 2,
   "metadata": {
    "scrolled": false
   },
   "outputs": [
    {
     "name": "stdout",
     "output_type": "stream",
     "text": [
      "WARNING:tensorflow:From <ipython-input-2-540621b68756>:1: read_data_sets (from tensorflow.contrib.learn.python.learn.datasets.mnist) is deprecated and will be removed in a future version.\n",
      "Instructions for updating:\n",
      "Please use alternatives such as official/mnist/dataset.py from tensorflow/models.\n",
      "WARNING:tensorflow:From c:\\users\\silve\\appdata\\local\\programs\\python\\python35\\lib\\site-packages\\tensorflow\\contrib\\learn\\python\\learn\\datasets\\mnist.py:260: maybe_download (from tensorflow.contrib.learn.python.learn.datasets.base) is deprecated and will be removed in a future version.\n",
      "Instructions for updating:\n",
      "Please write your own downloading logic.\n",
      "WARNING:tensorflow:From c:\\users\\silve\\appdata\\local\\programs\\python\\python35\\lib\\site-packages\\tensorflow\\contrib\\learn\\python\\learn\\datasets\\mnist.py:262: extract_images (from tensorflow.contrib.learn.python.learn.datasets.mnist) is deprecated and will be removed in a future version.\n",
      "Instructions for updating:\n",
      "Please use tf.data to implement this functionality.\n",
      "Extracting ../../dataset/MNIST\\train-images-idx3-ubyte.gz\n",
      "WARNING:tensorflow:From c:\\users\\silve\\appdata\\local\\programs\\python\\python35\\lib\\site-packages\\tensorflow\\contrib\\learn\\python\\learn\\datasets\\mnist.py:267: extract_labels (from tensorflow.contrib.learn.python.learn.datasets.mnist) is deprecated and will be removed in a future version.\n",
      "Instructions for updating:\n",
      "Please use tf.data to implement this functionality.\n",
      "Extracting ../../dataset/MNIST\\train-labels-idx1-ubyte.gz\n",
      "Extracting ../../dataset/MNIST\\t10k-images-idx3-ubyte.gz\n",
      "Extracting ../../dataset/MNIST\\t10k-labels-idx1-ubyte.gz\n",
      "WARNING:tensorflow:From c:\\users\\silve\\appdata\\local\\programs\\python\\python35\\lib\\site-packages\\tensorflow\\contrib\\learn\\python\\learn\\datasets\\mnist.py:290: DataSet.__init__ (from tensorflow.contrib.learn.python.learn.datasets.mnist) is deprecated and will be removed in a future version.\n",
      "Instructions for updating:\n",
      "Please use alternatives such as official/mnist/dataset.py from tensorflow/models.\n",
      "(55000, 784)\n",
      "(55000,)\n",
      "(10000, 784)\n",
      "(10000,)\n"
     ]
    }
   ],
   "source": [
    "mnist = input_data.read_data_sets('../../dataset/MNIST')\n",
    "\n",
    "train_data = mnist.train.images # Returns np.array\n",
    "print(train_data.shape)\n",
    "# print(train_data[0,:])\n",
    "train_labels = np.asarray(mnist.train.labels, dtype=np.int32)\n",
    "print(train_labels.shape)\n",
    "# print(train_labels[0])\n",
    "\n",
    "test_data = mnist.test.images # Returns np.array\n",
    "print(test_data.shape)\n",
    "# print(test_data[0,:])\n",
    "test_labels = np.asarray(mnist.test.labels, dtype=np.int32)\n",
    "print(test_labels.shape)\n",
    "# print(test_labels[0])"
   ]
  },
  {
   "cell_type": "markdown",
   "metadata": {},
   "source": [
    "#  Define Model Structure (tf.leyers)"
   ]
  },
  {
   "cell_type": "raw",
   "metadata": {},
   "source": [
    "Ex 00\n",
    "建立一個 Fully Connected Neural Network (input_dim = 784, output_dim = 10)\n",
    "1st layer: 512 nodes with 'sigmoid' activation function\n",
    "2nd layer: 256 nodes with 'sigmoid' activation function\n",
    "3rd layer (output): 10 noeds\n",
    "\n",
    "Hint:\n",
    "tf.layers.dense( )\n",
    "tf.sigmoid( )"
   ]
  },
  {
   "cell_type": "code",
   "execution_count": 3,
   "metadata": {},
   "outputs": [],
   "source": [
    "# Define Model Input (x) and Output (y_),  y_ = f(x)\n",
    "x = tf.placeholder(tf.float32, [None, 784])\n",
    "y_ = tf.placeholder(tf.int32, [None])\n",
    "y_one = tf.one_hot(y_,10)\n",
    "\n",
    "h1 = tf.layers.dense(x,512,activation=None)\n",
    "h1_sigmoid = tf.sigmoid(h1)\n",
    "h2 = tf.layers.dense(h1_sigmoid,256,activation=None)\n",
    "h2_sigmoid = tf.sigmoid(h2)\n",
    "y = tf.layers.dense(h2_sigmoid,10,activation=None)"
   ]
  },
  {
   "cell_type": "code",
   "execution_count": 4,
   "metadata": {},
   "outputs": [
    {
     "name": "stdout",
     "output_type": "stream",
     "text": [
      "WARNING:tensorflow:From <ipython-input-4-10ef3cb2d9c4>:2: softmax_cross_entropy_with_logits (from tensorflow.python.ops.nn_ops) is deprecated and will be removed in a future version.\n",
      "Instructions for updating:\n",
      "\n",
      "Future major versions of TensorFlow will allow gradients to flow\n",
      "into the labels input on backprop by default.\n",
      "\n",
      "See @{tf.nn.softmax_cross_entropy_with_logits_v2}.\n",
      "\n"
     ]
    }
   ],
   "source": [
    "# Define the Model Loss (4)\n",
    "cross_entropy = tf.reduce_mean(tf.nn.softmax_cross_entropy_with_logits(labels=y_one, logits=y))\n",
    "\n",
    "# Define the Optimizer (5)\n",
    "train_step = tf.train.GradientDescentOptimizer(0.1).minimize(cross_entropy)\n",
    "\n",
    "y_pred = tf.argmax(tf.nn.softmax(y), 1, output_type=tf.int32)\n",
    "\n",
    "# Accuracy of the Model\n",
    "correct_prediction = tf.equal(y_pred, y_)\n",
    "accuracy = tf.reduce_mean(tf.cast(correct_prediction, tf.float32))\n",
    "\n",
    "# initialize the model\n",
    "sess = tf.InteractiveSession()\n",
    "tf.global_variables_initializer().run()"
   ]
  },
  {
   "cell_type": "markdown",
   "metadata": {},
   "source": [
    "# Training & Evaluation"
   ]
  },
  {
   "cell_type": "code",
   "execution_count": 5,
   "metadata": {},
   "outputs": [
    {
     "name": "stdout",
     "output_type": "stream",
     "text": [
      "Accuracy: [T] 0.1123 / [V] 0.1135\n",
      "Accuracy: [T] 0.3814 / [V] 0.3928\n",
      "Accuracy: [T] 0.6234 / [V] 0.6324\n",
      "Accuracy: [T] 0.6730 / [V] 0.6779\n",
      "Accuracy: [T] 0.7706 / [V] 0.7789\n",
      "Accuracy: [T] 0.7936 / [V] 0.8033\n",
      "Accuracy: [T] 0.8376 / [V] 0.8449\n",
      "Accuracy: [T] 0.8503 / [V] 0.8571\n",
      "Accuracy: [T] 0.8579 / [V] 0.8641\n",
      "Accuracy: [T] 0.8663 / [V] 0.8726\n",
      "[7 2 1 ... 4 5 6]\n"
     ]
    }
   ],
   "source": [
    "# Train Model for 1000 steps\n",
    "hist_train_acc = []\n",
    "hist_valid_acc = []\n",
    "for step in range(1000):\n",
    "    batch_xs, batch_ys = mnist.train.next_batch(128)\n",
    "    sess.run(train_step, feed_dict={x: batch_xs, y_: batch_ys})\n",
    "    if (step % 100 == 0):\n",
    "        acc_train = sess.run(accuracy, feed_dict={x: train_data, y_: train_labels})\n",
    "        acc_valid = sess.run(accuracy, feed_dict={x: test_data, y_: test_labels})\n",
    "        hist_train_acc.append(acc_train)\n",
    "        hist_valid_acc.append(acc_valid)\n",
    "        print(\"Accuracy: [T] %.4f / [V] %.4f\" % (acc_train,acc_valid))\n",
    "\n",
    "print(sess.run(y_pred, feed_dict={x: test_data,y_: test_labels}))\n",
    "sess.close()"
   ]
  },
  {
   "cell_type": "code",
   "execution_count": 6,
   "metadata": {},
   "outputs": [
    {
     "data": {
      "image/png": "[encoded data removed]",
      "text/plain": [
       "<Figure size 432x288 with 1 Axes>"
      ]
     },
     "metadata": {
      "needs_background": "light"
     },
     "output_type": "display_data"
    }
   ],
   "source": [
    "x = [x*100 for x in range(len(hist_train_acc))]\n",
    "line_train, = plt.plot(x, hist_train_acc, label='Training')\n",
    "line_test, = plt.plot(x, hist_valid_acc, label='Test')\n",
    "plt.xlabel('# of Step')\n",
    "plt.ylabel('Accuracy')\n",
    "plt.legend(handles=[line_train,line_test], loc=4)\n",
    "plt.savefig('./training_curve/ex00_FirstModel.png')\n",
    "plt.show()\n",
    "plt.close()"
   ]
  }
 ],
 "metadata": {
  "kernelspec": {
   "display_name": "Python 3",
   "language": "python",
   "name": "python3"
  },
  "language_info": {
   "codemirror_mode": {
    "name": "ipython",
    "version": 3
   },
   "file_extension": ".py",
   "mimetype": "text/x-python",
   "name": "python",
   "nbconvert_exporter": "python",
   "pygments_lexer": "ipython3",
   "version": "3.5.3"
  }
 },
 "nbformat": 4,
 "nbformat_minor": 2
}
